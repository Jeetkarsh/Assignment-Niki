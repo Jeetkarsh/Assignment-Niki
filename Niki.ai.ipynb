{
 "cells": [
  {
   "cell_type": "markdown",
   "metadata": {},
   "source": [
    "Reading data from LabelledData.txt and printing the header to visualize the data.\n",
    "Given input(Training Data) is having 1st and 2nd column as NAN and also there are 1387 Total Records."
   ]
  },
  {
   "cell_type": "code",
   "execution_count": 194,
   "metadata": {},
   "outputs": [
    {
     "name": "stdout",
     "output_type": "stream",
     "text": [
      "                                                   0   1   2         3\n",
      "0  how did serfdom develop in and then leave russ... NaN NaN   unknown\n",
      "1  what films featured the character popeye doyle ?  NaN NaN      what\n",
      "2  how can i find a list of celebrities ' real na... NaN NaN   unknown\n",
      "3  what fowl grabs the spotlight after the chines... NaN NaN      what\n",
      "4                   what is the full form of .com ?  NaN NaN      what\n",
      "(1387, 4)\n"
     ]
    },
    {
     "name": "stderr",
     "output_type": "stream",
     "text": [
      "b'Skipping line 136: expected 4 fields, saw 6\\nSkipping line 143: expected 4 fields, saw 5\\nSkipping line 159: expected 4 fields, saw 5\\nSkipping line 168: expected 4 fields, saw 5\\nSkipping line 182: expected 4 fields, saw 5\\nSkipping line 186: expected 4 fields, saw 6\\nSkipping line 235: expected 4 fields, saw 5\\nSkipping line 246: expected 4 fields, saw 7\\nSkipping line 250: expected 4 fields, saw 5\\nSkipping line 254: expected 4 fields, saw 5\\nSkipping line 258: expected 4 fields, saw 5\\nSkipping line 260: expected 4 fields, saw 6\\nSkipping line 271: expected 4 fields, saw 6\\nSkipping line 298: expected 4 fields, saw 5\\nSkipping line 326: expected 4 fields, saw 5\\nSkipping line 356: expected 4 fields, saw 5\\nSkipping line 379: expected 4 fields, saw 5\\nSkipping line 414: expected 4 fields, saw 6\\nSkipping line 420: expected 4 fields, saw 6\\nSkipping line 457: expected 4 fields, saw 5\\nSkipping line 476: expected 4 fields, saw 6\\nSkipping line 484: expected 4 fields, saw 5\\nSkipping line 506: expected 4 fields, saw 6\\nSkipping line 510: expected 4 fields, saw 6\\nSkipping line 516: expected 4 fields, saw 5\\nSkipping line 521: expected 4 fields, saw 6\\nSkipping line 523: expected 4 fields, saw 5\\nSkipping line 527: expected 4 fields, saw 5\\nSkipping line 542: expected 4 fields, saw 5\\nSkipping line 552: expected 4 fields, saw 7\\nSkipping line 590: expected 4 fields, saw 5\\nSkipping line 595: expected 4 fields, saw 5\\nSkipping line 601: expected 4 fields, saw 5\\nSkipping line 641: expected 4 fields, saw 5\\nSkipping line 646: expected 4 fields, saw 5\\nSkipping line 665: expected 4 fields, saw 5\\nSkipping line 695: expected 4 fields, saw 12\\nSkipping line 715: expected 4 fields, saw 6\\nSkipping line 718: expected 4 fields, saw 5\\nSkipping line 726: expected 4 fields, saw 5\\nSkipping line 738: expected 4 fields, saw 5\\nSkipping line 753: expected 4 fields, saw 6\\nSkipping line 755: expected 4 fields, saw 5\\nSkipping line 756: expected 4 fields, saw 5\\nSkipping line 760: expected 4 fields, saw 5\\nSkipping line 770: expected 4 fields, saw 5\\nSkipping line 798: expected 4 fields, saw 6\\nSkipping line 810: expected 4 fields, saw 5\\nSkipping line 831: expected 4 fields, saw 5\\nSkipping line 840: expected 4 fields, saw 5\\nSkipping line 842: expected 4 fields, saw 5\\nSkipping line 861: expected 4 fields, saw 5\\nSkipping line 888: expected 4 fields, saw 5\\nSkipping line 896: expected 4 fields, saw 5\\nSkipping line 914: expected 4 fields, saw 5\\nSkipping line 927: expected 4 fields, saw 6\\nSkipping line 930: expected 4 fields, saw 5\\nSkipping line 934: expected 4 fields, saw 5\\nSkipping line 947: expected 4 fields, saw 5\\nSkipping line 951: expected 4 fields, saw 5\\nSkipping line 957: expected 4 fields, saw 5\\nSkipping line 984: expected 4 fields, saw 5\\nSkipping line 987: expected 4 fields, saw 5\\nSkipping line 989: expected 4 fields, saw 5\\nSkipping line 995: expected 4 fields, saw 6\\nSkipping line 997: expected 4 fields, saw 6\\nSkipping line 1021: expected 4 fields, saw 5\\nSkipping line 1029: expected 4 fields, saw 5\\nSkipping line 1035: expected 4 fields, saw 6\\nSkipping line 1051: expected 4 fields, saw 5\\nSkipping line 1058: expected 4 fields, saw 5\\nSkipping line 1065: expected 4 fields, saw 5\\nSkipping line 1085: expected 4 fields, saw 6\\nSkipping line 1105: expected 4 fields, saw 5\\nSkipping line 1131: expected 4 fields, saw 5\\nSkipping line 1142: expected 4 fields, saw 5\\nSkipping line 1145: expected 4 fields, saw 5\\nSkipping line 1147: expected 4 fields, saw 6\\nSkipping line 1157: expected 4 fields, saw 8\\nSkipping line 1164: expected 4 fields, saw 5\\nSkipping line 1174: expected 4 fields, saw 5\\nSkipping line 1187: expected 4 fields, saw 6\\nSkipping line 1201: expected 4 fields, saw 5\\nSkipping line 1223: expected 4 fields, saw 5\\nSkipping line 1224: expected 4 fields, saw 5\\nSkipping line 1226: expected 4 fields, saw 5\\nSkipping line 1229: expected 4 fields, saw 5\\nSkipping line 1248: expected 4 fields, saw 5\\nSkipping line 1264: expected 4 fields, saw 5\\nSkipping line 1280: expected 4 fields, saw 5\\nSkipping line 1304: expected 4 fields, saw 5\\nSkipping line 1310: expected 4 fields, saw 5\\nSkipping line 1337: expected 4 fields, saw 5\\nSkipping line 1344: expected 4 fields, saw 5\\nSkipping line 1372: expected 4 fields, saw 5\\nSkipping line 1416: expected 4 fields, saw 5\\n'\n"
     ]
    }
   ],
   "source": [
    "import pandas as pd\n",
    "data = pd.read_csv(\"LabelledData.txt\", sep=',',error_bad_lines=False,header=None)\n",
    "print (data.head(5))\n",
    "print (data.shape)"
   ]
  },
  {
   "cell_type": "code",
   "execution_count": 195,
   "metadata": {},
   "outputs": [
    {
     "name": "stdout",
     "output_type": "stream",
     "text": [
      "                                            question    label\n",
      "0  how did serfdom develop in and then leave russ...  unknown\n",
      "1  what films featured the character popeye doyle ?      what\n",
      "2  how can i find a list of celebrities ' real na...  unknown\n",
      "3  what fowl grabs the spotlight after the chines...     what\n",
      "4                   what is the full form of .com ?      what\n",
      "(1387, 2)\n"
     ]
    }
   ],
   "source": [
    "data = data.dropna(axis=1, how='all')\n",
    "data.columns = [\"question\", \"label\"]\n",
    "data['label'] = data['label'].str.strip()\n",
    "print (data.head(5))\n",
    "print (data.shape)"
   ]
  },
  {
   "cell_type": "markdown",
   "metadata": {},
   "source": [
    "After Dropping NAN values and rechecking the size of the dataframe"
   ]
  },
  {
   "cell_type": "code",
   "execution_count": 196,
   "metadata": {},
   "outputs": [
    {
     "name": "stdout",
     "output_type": "stream",
     "text": [
      "['unknown' 'what' 'when' 'who' 'affirmation']\n"
     ]
    },
    {
     "data": {
      "text/plain": [
       "what           574\n",
       "who            371\n",
       "unknown        250\n",
       "affirmation    103\n",
       "when            89\n",
       "Name: label, dtype: int64"
      ]
     },
     "execution_count": 196,
     "metadata": {},
     "output_type": "execute_result"
    }
   ],
   "source": [
    "data['label'] = data['label'].astype(str) \n",
    "print (data['label'].unique())\n",
    "data.label.value_counts()"
   ]
  },
  {
   "cell_type": "markdown",
   "metadata": {},
   "source": [
    "Trying to get the insights about the training data by finding out the unique target labels and its coressponding count."
   ]
  },
  {
   "cell_type": "code",
   "execution_count": 197,
   "metadata": {},
   "outputs": [
    {
     "data": {
      "text/html": [
       "<div>\n",
       "<style scoped>\n",
       "    .dataframe tbody tr th:only-of-type {\n",
       "        vertical-align: middle;\n",
       "    }\n",
       "\n",
       "    .dataframe tbody tr th {\n",
       "        vertical-align: top;\n",
       "    }\n",
       "\n",
       "    .dataframe thead th {\n",
       "        text-align: right;\n",
       "    }\n",
       "</style>\n",
       "<table border=\"1\" class=\"dataframe\">\n",
       "  <thead>\n",
       "    <tr style=\"text-align: right;\">\n",
       "      <th></th>\n",
       "      <th>question</th>\n",
       "      <th>label</th>\n",
       "    </tr>\n",
       "  </thead>\n",
       "  <tbody>\n",
       "    <tr>\n",
       "      <th>0</th>\n",
       "      <td>how did serfdom develop in and then leave russ...</td>\n",
       "      <td>unknown</td>\n",
       "    </tr>\n",
       "    <tr>\n",
       "      <th>2</th>\n",
       "      <td>how can i find a list of celebrities ' real na...</td>\n",
       "      <td>unknown</td>\n",
       "    </tr>\n",
       "    <tr>\n",
       "      <th>9</th>\n",
       "      <td>name the scar-faced bounty hunter of the old w...</td>\n",
       "      <td>unknown</td>\n",
       "    </tr>\n",
       "    <tr>\n",
       "      <th>11</th>\n",
       "      <td>why do heavier objects travel downhill faster ?</td>\n",
       "      <td>unknown</td>\n",
       "    </tr>\n",
       "    <tr>\n",
       "      <th>17</th>\n",
       "      <td>how many jews were executed in concentration c...</td>\n",
       "      <td>unknown</td>\n",
       "    </tr>\n",
       "    <tr>\n",
       "      <th>22</th>\n",
       "      <td>name 11 famous martyrs .</td>\n",
       "      <td>unknown</td>\n",
       "    </tr>\n",
       "    <tr>\n",
       "      <th>28</th>\n",
       "      <td>name a golf course in myrtle beach .</td>\n",
       "      <td>unknown</td>\n",
       "    </tr>\n",
       "    <tr>\n",
       "      <th>29</th>\n",
       "      <td>which two states enclose chesapeake bay ?</td>\n",
       "      <td>unknown</td>\n",
       "    </tr>\n",
       "    <tr>\n",
       "      <th>32</th>\n",
       "      <td>how many points make up a perfect fivepin bowl...</td>\n",
       "      <td>unknown</td>\n",
       "    </tr>\n",
       "    <tr>\n",
       "      <th>33</th>\n",
       "      <td>which company that manufactures video-game har...</td>\n",
       "      <td>unknown</td>\n",
       "    </tr>\n",
       "    <tr>\n",
       "      <th>34</th>\n",
       "      <td>how many community chest cards are there in mo...</td>\n",
       "      <td>unknown</td>\n",
       "    </tr>\n",
       "    <tr>\n",
       "      <th>38</th>\n",
       "      <td>where do the adventures of `` the swiss family...</td>\n",
       "      <td>unknown</td>\n",
       "    </tr>\n",
       "    <tr>\n",
       "      <th>40</th>\n",
       "      <td>how can i register my website in yahoo for fre...</td>\n",
       "      <td>unknown</td>\n",
       "    </tr>\n",
       "    <tr>\n",
       "      <th>42</th>\n",
       "      <td>how many people in the world speak french ?</td>\n",
       "      <td>unknown</td>\n",
       "    </tr>\n",
       "    <tr>\n",
       "      <th>43</th>\n",
       "      <td>how many inches over six feet is the venus de ...</td>\n",
       "      <td>unknown</td>\n",
       "    </tr>\n",
       "    <tr>\n",
       "      <th>44</th>\n",
       "      <td>how do they find or choose witnesses to an exe...</td>\n",
       "      <td>unknown</td>\n",
       "    </tr>\n",
       "    <tr>\n",
       "      <th>48</th>\n",
       "      <td>how do you ask a total stranger out on a date ?</td>\n",
       "      <td>unknown</td>\n",
       "    </tr>\n",
       "    <tr>\n",
       "      <th>53</th>\n",
       "      <td>where did the term `` 86ed '' come from ?</td>\n",
       "      <td>unknown</td>\n",
       "    </tr>\n",
       "    <tr>\n",
       "      <th>60</th>\n",
       "      <td>where is the loop ?</td>\n",
       "      <td>unknown</td>\n",
       "    </tr>\n",
       "    <tr>\n",
       "      <th>65</th>\n",
       "      <td>which city has the oldest relationship as a si...</td>\n",
       "      <td>unknown</td>\n",
       "    </tr>\n",
       "    <tr>\n",
       "      <th>67</th>\n",
       "      <td>why do people get calluses ?</td>\n",
       "      <td>unknown</td>\n",
       "    </tr>\n",
       "    <tr>\n",
       "      <th>75</th>\n",
       "      <td>how do i make fuel bricks from recycled newspa...</td>\n",
       "      <td>unknown</td>\n",
       "    </tr>\n",
       "    <tr>\n",
       "      <th>78</th>\n",
       "      <td>how do i log on to home page at headquarters u...</td>\n",
       "      <td>unknown</td>\n",
       "    </tr>\n",
       "    <tr>\n",
       "      <th>81</th>\n",
       "      <td>how many species of the great white shark are ...</td>\n",
       "      <td>unknown</td>\n",
       "    </tr>\n",
       "    <tr>\n",
       "      <th>85</th>\n",
       "      <td>how many villi are found in the small intestin...</td>\n",
       "      <td>unknown</td>\n",
       "    </tr>\n",
       "    <tr>\n",
       "      <th>89</th>\n",
       "      <td>in which year was new zealand excluded from th...</td>\n",
       "      <td>unknown</td>\n",
       "    </tr>\n",
       "    <tr>\n",
       "      <th>104</th>\n",
       "      <td>which of the following was rhodes scholar ?</td>\n",
       "      <td>unknown</td>\n",
       "    </tr>\n",
       "    <tr>\n",
       "      <th>106</th>\n",
       "      <td>how do you make a paintball ?</td>\n",
       "      <td>unknown</td>\n",
       "    </tr>\n",
       "    <tr>\n",
       "      <th>109</th>\n",
       "      <td>where is the highest point in japan ?</td>\n",
       "      <td>unknown</td>\n",
       "    </tr>\n",
       "    <tr>\n",
       "      <th>110</th>\n",
       "      <td>where do chihuahuas come from ?</td>\n",
       "      <td>unknown</td>\n",
       "    </tr>\n",
       "    <tr>\n",
       "      <th>...</th>\n",
       "      <td>...</td>\n",
       "      <td>...</td>\n",
       "    </tr>\n",
       "    <tr>\n",
       "      <th>826</th>\n",
       "      <td>why are electric cars less efficient in the no...</td>\n",
       "      <td>unknown</td>\n",
       "    </tr>\n",
       "    <tr>\n",
       "      <th>830</th>\n",
       "      <td>name the various costumed personas of dr. henr...</td>\n",
       "      <td>unknown</td>\n",
       "    </tr>\n",
       "    <tr>\n",
       "      <th>848</th>\n",
       "      <td>which soft drink does madonna advertise for ?</td>\n",
       "      <td>unknown</td>\n",
       "    </tr>\n",
       "    <tr>\n",
       "      <th>851</th>\n",
       "      <td>how many double-word-score spaces are there on...</td>\n",
       "      <td>unknown</td>\n",
       "    </tr>\n",
       "    <tr>\n",
       "      <th>854</th>\n",
       "      <td>why were the american soldiers in wwi called `...</td>\n",
       "      <td>unknown</td>\n",
       "    </tr>\n",
       "    <tr>\n",
       "      <th>856</th>\n",
       "      <td>how many cds has garth brooks sold ?</td>\n",
       "      <td>unknown</td>\n",
       "    </tr>\n",
       "    <tr>\n",
       "      <th>857</th>\n",
       "      <td>name the vessel used by the atari force in the...</td>\n",
       "      <td>unknown</td>\n",
       "    </tr>\n",
       "    <tr>\n",
       "      <th>858</th>\n",
       "      <td>where are the leading medical groups specializ...</td>\n",
       "      <td>unknown</td>\n",
       "    </tr>\n",
       "    <tr>\n",
       "      <th>862</th>\n",
       "      <td>how many gutenberg bibles are there ?</td>\n",
       "      <td>unknown</td>\n",
       "    </tr>\n",
       "    <tr>\n",
       "      <th>863</th>\n",
       "      <td>name the largest country in south america .</td>\n",
       "      <td>unknown</td>\n",
       "    </tr>\n",
       "    <tr>\n",
       "      <th>873</th>\n",
       "      <td>which condiment was once sold as a patent medi...</td>\n",
       "      <td>unknown</td>\n",
       "    </tr>\n",
       "    <tr>\n",
       "      <th>875</th>\n",
       "      <td>why did the world enter a global depression in...</td>\n",
       "      <td>unknown</td>\n",
       "    </tr>\n",
       "    <tr>\n",
       "      <th>891</th>\n",
       "      <td>how many home runs did lou gehrig have during ...</td>\n",
       "      <td>unknown</td>\n",
       "    </tr>\n",
       "    <tr>\n",
       "      <th>893</th>\n",
       "      <td>where can i find information on george bush ?</td>\n",
       "      <td>unknown</td>\n",
       "    </tr>\n",
       "    <tr>\n",
       "      <th>897</th>\n",
       "      <td>how many boys play the game in winslow homer '...</td>\n",
       "      <td>unknown</td>\n",
       "    </tr>\n",
       "    <tr>\n",
       "      <th>905</th>\n",
       "      <td>how many astronauts manned each project mercur...</td>\n",
       "      <td>unknown</td>\n",
       "    </tr>\n",
       "    <tr>\n",
       "      <th>909</th>\n",
       "      <td>name the only extant trilogy of classical gree...</td>\n",
       "      <td>unknown</td>\n",
       "    </tr>\n",
       "    <tr>\n",
       "      <th>910</th>\n",
       "      <td>where is logan airport ?</td>\n",
       "      <td>unknown</td>\n",
       "    </tr>\n",
       "    <tr>\n",
       "      <th>917</th>\n",
       "      <td>which of the following men was not married to ...</td>\n",
       "      <td>unknown</td>\n",
       "    </tr>\n",
       "    <tr>\n",
       "      <th>920</th>\n",
       "      <td>how do you find oxidation numbers ?</td>\n",
       "      <td>unknown</td>\n",
       "    </tr>\n",
       "    <tr>\n",
       "      <th>923</th>\n",
       "      <td>how many students attend the university of mas...</td>\n",
       "      <td>unknown</td>\n",
       "    </tr>\n",
       "    <tr>\n",
       "      <th>930</th>\n",
       "      <td>how do you look up criminal records on the int...</td>\n",
       "      <td>unknown</td>\n",
       "    </tr>\n",
       "    <tr>\n",
       "      <th>950</th>\n",
       "      <td>whose video is titled shape up with arnold ?</td>\n",
       "      <td>unknown</td>\n",
       "    </tr>\n",
       "    <tr>\n",
       "      <th>985</th>\n",
       "      <td>whose cupboard was bare ?</td>\n",
       "      <td>unknown</td>\n",
       "    </tr>\n",
       "    <tr>\n",
       "      <th>1011</th>\n",
       "      <td>whom did lauren bacall marry after her husband...</td>\n",
       "      <td>unknown</td>\n",
       "    </tr>\n",
       "    <tr>\n",
       "      <th>1063</th>\n",
       "      <td>whose image is alleged to be on the shroud of ...</td>\n",
       "      <td>unknown</td>\n",
       "    </tr>\n",
       "    <tr>\n",
       "      <th>1098</th>\n",
       "      <td>whose kidnaping was termed the crime of the ce...</td>\n",
       "      <td>unknown</td>\n",
       "    </tr>\n",
       "    <tr>\n",
       "      <th>1190</th>\n",
       "      <td>whom did friz freleng add to the warner bros. ...</td>\n",
       "      <td>unknown</td>\n",
       "    </tr>\n",
       "    <tr>\n",
       "      <th>1219</th>\n",
       "      <td>whose biography by maurice zolotow is titled s...</td>\n",
       "      <td>unknown</td>\n",
       "    </tr>\n",
       "    <tr>\n",
       "      <th>1269</th>\n",
       "      <td>whose acceptance speech of more than 3 minutes...</td>\n",
       "      <td>unknown</td>\n",
       "    </tr>\n",
       "  </tbody>\n",
       "</table>\n",
       "<p>250 rows × 2 columns</p>\n",
       "</div>"
      ],
      "text/plain": [
       "                                               question    label\n",
       "0     how did serfdom develop in and then leave russ...  unknown\n",
       "2     how can i find a list of celebrities ' real na...  unknown\n",
       "9     name the scar-faced bounty hunter of the old w...  unknown\n",
       "11     why do heavier objects travel downhill faster ?   unknown\n",
       "17    how many jews were executed in concentration c...  unknown\n",
       "22                            name 11 famous martyrs .   unknown\n",
       "28                name a golf course in myrtle beach .   unknown\n",
       "29           which two states enclose chesapeake bay ?   unknown\n",
       "32    how many points make up a perfect fivepin bowl...  unknown\n",
       "33    which company that manufactures video-game har...  unknown\n",
       "34    how many community chest cards are there in mo...  unknown\n",
       "38    where do the adventures of `` the swiss family...  unknown\n",
       "40    how can i register my website in yahoo for fre...  unknown\n",
       "42         how many people in the world speak french ?   unknown\n",
       "43    how many inches over six feet is the venus de ...  unknown\n",
       "44    how do they find or choose witnesses to an exe...  unknown\n",
       "48     how do you ask a total stranger out on a date ?   unknown\n",
       "53           where did the term `` 86ed '' come from ?   unknown\n",
       "60                                 where is the loop ?   unknown\n",
       "65    which city has the oldest relationship as a si...  unknown\n",
       "67                        why do people get calluses ?   unknown\n",
       "75    how do i make fuel bricks from recycled newspa...  unknown\n",
       "78    how do i log on to home page at headquarters u...  unknown\n",
       "81    how many species of the great white shark are ...  unknown\n",
       "85    how many villi are found in the small intestin...  unknown\n",
       "89    in which year was new zealand excluded from th...  unknown\n",
       "104        which of the following was rhodes scholar ?   unknown\n",
       "106                      how do you make a paintball ?   unknown\n",
       "109              where is the highest point in japan ?   unknown\n",
       "110                    where do chihuahuas come from ?   unknown\n",
       "...                                                 ...      ...\n",
       "826   why are electric cars less efficient in the no...  unknown\n",
       "830   name the various costumed personas of dr. henr...  unknown\n",
       "848      which soft drink does madonna advertise for ?   unknown\n",
       "851   how many double-word-score spaces are there on...  unknown\n",
       "854   why were the american soldiers in wwi called `...  unknown\n",
       "856               how many cds has garth brooks sold ?   unknown\n",
       "857   name the vessel used by the atari force in the...  unknown\n",
       "858   where are the leading medical groups specializ...  unknown\n",
       "862              how many gutenberg bibles are there ?   unknown\n",
       "863        name the largest country in south america .   unknown\n",
       "873   which condiment was once sold as a patent medi...  unknown\n",
       "875   why did the world enter a global depression in...  unknown\n",
       "891   how many home runs did lou gehrig have during ...  unknown\n",
       "893      where can i find information on george bush ?   unknown\n",
       "897   how many boys play the game in winslow homer '...  unknown\n",
       "905   how many astronauts manned each project mercur...  unknown\n",
       "909   name the only extant trilogy of classical gree...  unknown\n",
       "910                           where is logan airport ?   unknown\n",
       "917   which of the following men was not married to ...  unknown\n",
       "920                how do you find oxidation numbers ?   unknown\n",
       "923   how many students attend the university of mas...  unknown\n",
       "930   how do you look up criminal records on the int...  unknown\n",
       "950       whose video is titled shape up with arnold ?   unknown\n",
       "985                          whose cupboard was bare ?   unknown\n",
       "1011  whom did lauren bacall marry after her husband...  unknown\n",
       "1063  whose image is alleged to be on the shroud of ...  unknown\n",
       "1098  whose kidnaping was termed the crime of the ce...  unknown\n",
       "1190  whom did friz freleng add to the warner bros. ...  unknown\n",
       "1219  whose biography by maurice zolotow is titled s...  unknown\n",
       "1269  whose acceptance speech of more than 3 minutes...  unknown\n",
       "\n",
       "[250 rows x 2 columns]"
      ]
     },
     "execution_count": 197,
     "metadata": {},
     "output_type": "execute_result"
    }
   ],
   "source": [
    "data[data['label']== 'unknown']"
   ]
  },
  {
   "cell_type": "code",
   "execution_count": 198,
   "metadata": {},
   "outputs": [
    {
     "data": {
      "text/plain": [
       "(1387, 2)"
      ]
     },
     "execution_count": 198,
     "metadata": {},
     "output_type": "execute_result"
    }
   ],
   "source": [
    "data.shape"
   ]
  },
  {
   "cell_type": "markdown",
   "metadata": {},
   "source": [
    "As it can be seen from the initial analysis out of these 250 questions most of them can be assigned the labels which we explored above therefore trying to assign the label to these 250 questions and will also try to normalize ' who' and '  who' which are currently being treated different because of the fomrating issue."
   ]
  },
  {
   "cell_type": "code",
   "execution_count": 199,
   "metadata": {},
   "outputs": [],
   "source": [
    "KeyWords = [\"how\",\"where\",\"which\",\"whom\",\"whose\",\"why\",\"who\"]\n",
    "temp_dict =   {}\n",
    "l1 = []\n",
    "def Unknown_label(data):\n",
    "    return {row['question']:row['label'] for index, row in data.iterrows() if row['label'] == 'unknown'}\n",
    "def label_assign(result):\n",
    "    for k,v in result.items():\n",
    "        first_word = k.split(\" \")[0]\n",
    "        if first_word in KeyWords:\n",
    "            new_word = k.split(\" \")[0]\n",
    "            temp_dict.update({k:new_word})  \n",
    "        else:\n",
    "            temp_dict.update({k:'unknown'})\n",
    "    return temp_dict\n",
    "result = Unknown_label(data)\n",
    "UnknownValues= label_assign(result)"
   ]
  },
  {
   "cell_type": "code",
   "execution_count": 200,
   "metadata": {},
   "outputs": [
    {
     "data": {
      "text/plain": [
       "(1387, 2)"
      ]
     },
     "execution_count": 200,
     "metadata": {},
     "output_type": "execute_result"
    }
   ],
   "source": [
    "data.shape"
   ]
  },
  {
   "cell_type": "markdown",
   "metadata": {},
   "source": [
    "Building and assigning the questions and labels to the dataframe that we got from the new build dictionary"
   ]
  },
  {
   "cell_type": "code",
   "execution_count": 201,
   "metadata": {},
   "outputs": [
    {
     "name": "stderr",
     "output_type": "stream",
     "text": [
      "C:\\Users\\jeetk\\Anaconda3\\lib\\site-packages\\ipykernel_launcher.py:3: FutureWarning: '.reindex_axis' is deprecated and will be removed in a future version. Use '.reindex' instead.\n",
      "  This is separate from the ipykernel package so we can avoid doing imports until\n"
     ]
    },
    {
     "data": {
      "text/plain": [
       "(249, 2)"
      ]
     },
     "execution_count": 201,
     "metadata": {},
     "output_type": "execute_result"
    }
   ],
   "source": [
    "s = pd.Series(UnknownValues)\n",
    "data_new = pd.DataFrame({'question':s.index, 'label':s.values})\n",
    "data_new = data_new.reindex_axis(['question','label'], axis=1)\n",
    "data_new.shape"
   ]
  },
  {
   "cell_type": "code",
   "execution_count": 202,
   "metadata": {},
   "outputs": [
    {
     "name": "stdout",
     "output_type": "stream",
     "text": [
      "['unknown' 'how' 'where' 'which' 'who' 'whom' 'whose' 'why']\n"
     ]
    },
    {
     "data": {
      "text/plain": [
       "how        118\n",
       "where       53\n",
       "unknown     29\n",
       "which       19\n",
       "why         17\n",
       "whose        9\n",
       "whom         3\n",
       "who          1\n",
       "Name: label, dtype: int64"
      ]
     },
     "execution_count": 202,
     "metadata": {},
     "output_type": "execute_result"
    }
   ],
   "source": [
    "print (data_new['label'].unique())\n",
    "data_new.label.value_counts()"
   ]
  },
  {
   "cell_type": "code",
   "execution_count": 203,
   "metadata": {},
   "outputs": [
    {
     "name": "stdout",
     "output_type": "stream",
     "text": [
      "['what' 'when' 'who' 'affirmation' 'unknown' 'how' 'where' 'which' 'whom'\n",
      " 'whose' 'why']\n"
     ]
    },
    {
     "data": {
      "text/plain": [
       "what           574\n",
       "who            372\n",
       "how            118\n",
       "affirmation    103\n",
       "when            89\n",
       "where           53\n",
       "unknown         29\n",
       "which           19\n",
       "why             17\n",
       "whose            9\n",
       "whom             3\n",
       "Name: label, dtype: int64"
      ]
     },
     "execution_count": 203,
     "metadata": {},
     "output_type": "execute_result"
    }
   ],
   "source": [
    "data1 = data\n",
    "data1.drop(data1[data1.label == 'unknown' ].index, inplace=True)\n",
    "bigdata = data.append(data_new, ignore_index=True)\n",
    "print (bigdata['label'].unique())\n",
    "bigdata.label.value_counts()\n"
   ]
  },
  {
   "cell_type": "code",
   "execution_count": 204,
   "metadata": {},
   "outputs": [],
   "source": [
    "bigdata.to_csv('LabelledData_Clean.txt', sep=',', encoding='utf-8')"
   ]
  },
  {
   "cell_type": "code",
   "execution_count": 205,
   "metadata": {},
   "outputs": [],
   "source": [
    "import string\n",
    "import pandas as pd\n",
    "from nltk import word_tokenize\n",
    "from nltk.stem.porter import PorterStemmer\n",
    "from sklearn.feature_extraction.text import TfidfVectorizer\n",
    "import time\n",
    "from sklearn.metrics import classification_report\n",
    "from sklearn import  svm\n",
    "\n",
    "\n",
    "header = [\"question\", \"label\"]\n",
    "data = pd.read_csv('LabelledData_Clean.txt',sep=',',header=None, names=header)\n",
    "\n",
    "train_data = data[:1300]\n",
    "test_data = data[1301:]\n",
    "\n",
    "def remove_non_ascii(textVal):\n",
    "    return ''.join([i if ord(i) < 128 else ' ' for i in textVal])\n",
    "\n",
    "def tokenize(text):\n",
    "    text = \"\".join([ch for ch in text if ch not in string.punctuation])\n",
    "    tokens = word_tokenize(text)\n",
    "    stems = stem_tokens(tokens, stemmer)\n",
    "    return stems\n",
    "\n",
    "stemmer = PorterStemmer()\n",
    "def stem_tokens(tokens, stemmer):\n",
    "    stemmed = []\n",
    "    for item in tokens:\n",
    "        stemmed.append(stemmer.stem(item))\n",
    "    return stemmed\n",
    "\n",
    "vectorizer = TfidfVectorizer(tokenizer=tokenize, stop_words='english')\n",
    "train_vectors = vectorizer.fit_transform(train_data.question)\n",
    "test_vectors = vectorizer.transform(test_data.question)\n",
    "classifier_linear = svm.SVC(kernel='linear')\n",
    "classifier_linear.fit(train_vectors, train_data.label)\n",
    "prediction_linear = classifier_linear.predict(test_vectors)"
   ]
  },
  {
   "cell_type": "code",
   "execution_count": 206,
   "metadata": {},
   "outputs": [],
   "source": [
    "import pandas as pd\n",
    "\n",
    "#new_data = pd.read_csv(\"LabelledData_Clean.txt\",error_bad_lines=False)\n",
    "\n",
    "header = [\"label\", \"question\"]\n",
    "new_data = pd.read_csv(\"Test.csv\",sep=':',header=None, names=header)\n",
    "\n",
    "test_data_question = new_data[\"question\"]\n",
    "\n",
    "vectored =  vectorizer.transform(new_data.question)\n",
    "predicted_label = classifier_linear.predict(vectored)\n",
    "\n",
    "new_dict = {\n",
    "\"question\": test_data_question,     \n",
    "\"Predicted\" : predicted_label   \n",
    " }\n",
    "new_dict_df = pd.DataFrame(new_dict)\n",
    "new_dict_df.to_csv(\"Results.csv\", sep=',')"
   ]
  },
  {
   "cell_type": "code",
   "execution_count": null,
   "metadata": {},
   "outputs": [],
   "source": []
  }
 ],
 "metadata": {
  "kernelspec": {
   "display_name": "Python 3",
   "language": "python",
   "name": "python3"
  },
  "language_info": {
   "codemirror_mode": {
    "name": "ipython",
    "version": 3
   },
   "file_extension": ".py",
   "mimetype": "text/x-python",
   "name": "python",
   "nbconvert_exporter": "python",
   "pygments_lexer": "ipython3",
   "version": "3.6.4"
  }
 },
 "nbformat": 4,
 "nbformat_minor": 2
}
